{
  "nbformat": 4,
  "nbformat_minor": 0,
  "metadata": {
    "colab": {
      "provenance": [],
      "authorship_tag": "ABX9TyOs0hNONAfSuxRvRKzdyw3y",
      "include_colab_link": true
    },
    "kernelspec": {
      "name": "python3",
      "display_name": "Python 3"
    },
    "language_info": {
      "name": "python"
    }
  },
  "cells": [
    {
      "cell_type": "markdown",
      "metadata": {
        "id": "view-in-github",
        "colab_type": "text"
      },
      "source": [
        "<a href=\"https://colab.research.google.com/github/DONTHIMEGHANA/DAV_BATCH_5_ASSIGNMENTS/blob/main/week9.ipynb\" target=\"_parent\"><img src=\"https://colab.research.google.com/assets/colab-badge.svg\" alt=\"Open In Colab\"/></a>"
      ]
    },
    {
      "cell_type": "code",
      "execution_count": 1,
      "metadata": {
        "colab": {
          "base_uri": "https://localhost:8080/",
          "height": 617
        },
        "id": "yiCNj4lsSdvw",
        "outputId": "1b129e41-b3f8-42c1-e7fc-4237f7fd5f26"
      },
      "outputs": [
        {
          "output_type": "display_data",
          "data": {
            "text/html": [
              "<html>\n",
              "<head><meta charset=\"utf-8\" /></head>\n",
              "<body>\n",
              "    <div>            <script src=\"https://cdnjs.cloudflare.com/ajax/libs/mathjax/2.7.5/MathJax.js?config=TeX-AMS-MML_SVG\"></script><script type=\"text/javascript\">if (window.MathJax && window.MathJax.Hub && window.MathJax.Hub.Config) {window.MathJax.Hub.Config({SVG: {font: \"STIX-Web\"}});}</script>                <script type=\"text/javascript\">window.PlotlyConfig = {MathJaxConfig: 'local'};</script>\n",
              "        <script charset=\"utf-8\" src=\"https://cdn.plot.ly/plotly-2.35.2.min.js\"></script>                <div id=\"3c38a6d6-edfd-4916-aa30-54c9d6d75dc7\" class=\"plotly-graph-div\" style=\"height:600px; width:1100px;\"></div>            <script type=\"text/javascript\">                                    window.PLOTLYENV=window.PLOTLYENV || {};                                    if (document.getElementById(\"3c38a6d6-edfd-4916-aa30-54c9d6d75dc7\")) {                    Plotly.newPlot(                        \"3c38a6d6-edfd-4916-aa30-54c9d6d75dc7\",                        [{\"hoverinfo\":\"text+x+y\",\"marker\":{\"color\":[0,0,0,0,0,0,0,0,0,0,0,0,0,0,0,0,0,0,0,0,0,0,0,0,0],\"colorscale\":[[0.0,\"#440154\"],[0.1111111111111111,\"#482878\"],[0.2222222222222222,\"#3e4989\"],[0.3333333333333333,\"#31688e\"],[0.4444444444444444,\"#26828e\"],[0.5555555555555556,\"#1f9e89\"],[0.6666666666666666,\"#35b779\"],[0.7777777777777778,\"#6ece58\"],[0.8888888888888888,\"#b5de2b\"],[1.0,\"#fde725\"]],\"size\":10},\"mode\":\"markers\",\"name\":\"Jan - Scatter\",\"text\":[\"Region: North\\u003cbr\\u003eRating: 4.5\",\"Region: North\\u003cbr\\u003eRating: 4.5\",\"Region: North\\u003cbr\\u003eRating: 4.5\",\"Region: North\\u003cbr\\u003eRating: 4.5\",\"Region: North\\u003cbr\\u003eRating: 4.5\",\"Region: North\\u003cbr\\u003eRating: 4.5\",\"Region: North\\u003cbr\\u003eRating: 4.5\",\"Region: North\\u003cbr\\u003eRating: 4.5\",\"Region: North\\u003cbr\\u003eRating: 4.5\",\"Region: North\\u003cbr\\u003eRating: 4.5\",\"Region: North\\u003cbr\\u003eRating: 4.5\",\"Region: North\\u003cbr\\u003eRating: 4.5\",\"Region: North\\u003cbr\\u003eRating: 4.5\",\"Region: North\\u003cbr\\u003eRating: 4.5\",\"Region: North\\u003cbr\\u003eRating: 4.5\",\"Region: North\\u003cbr\\u003eRating: 4.5\",\"Region: North\\u003cbr\\u003eRating: 4.5\",\"Region: North\\u003cbr\\u003eRating: 4.5\",\"Region: North\\u003cbr\\u003eRating: 4.5\",\"Region: North\\u003cbr\\u003eRating: 4.5\",\"Region: North\\u003cbr\\u003eRating: 4.5\",\"Region: North\\u003cbr\\u003eRating: 4.5\",\"Region: North\\u003cbr\\u003eRating: 4.5\",\"Region: North\\u003cbr\\u003eRating: 4.5\",\"Region: North\\u003cbr\\u003eRating: 4.5\"],\"visible\":true,\"x\":[100,100,100,100,100,100,100,100,100,100,100,100,100,100,100,100,100,100,100,100,100,100,100,100,100],\"y\":[5000,5000,5000,5000,5000,5000,5000,5000,5000,5000,5000,5000,5000,5000,5000,5000,5000,5000,5000,5000,5000,5000,5000,5000,5000],\"type\":\"scatter\",\"xaxis\":\"x\",\"yaxis\":\"y\"},{\"hoverinfo\":\"text+x+y\",\"marker\":{\"color\":[0,0,0,0,0,0,0,0,0,0,0,0,0,0,0,0,0,0,0,0,0,0,0,0,0],\"colorscale\":[[0.0,\"#440154\"],[0.1111111111111111,\"#482878\"],[0.2222222222222222,\"#3e4989\"],[0.3333333333333333,\"#31688e\"],[0.4444444444444444,\"#26828e\"],[0.5555555555555556,\"#1f9e89\"],[0.6666666666666666,\"#35b779\"],[0.7777777777777778,\"#6ece58\"],[0.8888888888888888,\"#b5de2b\"],[1.0,\"#fde725\"]],\"size\":10},\"mode\":\"markers\",\"name\":\"Feb - Scatter\",\"text\":[\"Region: South\\u003cbr\\u003eRating: 3.8\",\"Region: South\\u003cbr\\u003eRating: 3.8\",\"Region: South\\u003cbr\\u003eRating: 3.8\",\"Region: South\\u003cbr\\u003eRating: 3.8\",\"Region: South\\u003cbr\\u003eRating: 3.8\",\"Region: South\\u003cbr\\u003eRating: 3.8\",\"Region: South\\u003cbr\\u003eRating: 3.8\",\"Region: South\\u003cbr\\u003eRating: 3.8\",\"Region: South\\u003cbr\\u003eRating: 3.8\",\"Region: South\\u003cbr\\u003eRating: 3.8\",\"Region: South\\u003cbr\\u003eRating: 3.8\",\"Region: South\\u003cbr\\u003eRating: 3.8\",\"Region: South\\u003cbr\\u003eRating: 3.8\",\"Region: South\\u003cbr\\u003eRating: 3.8\",\"Region: South\\u003cbr\\u003eRating: 3.8\",\"Region: South\\u003cbr\\u003eRating: 3.8\",\"Region: South\\u003cbr\\u003eRating: 3.8\",\"Region: South\\u003cbr\\u003eRating: 3.8\",\"Region: South\\u003cbr\\u003eRating: 3.8\",\"Region: South\\u003cbr\\u003eRating: 3.8\",\"Region: South\\u003cbr\\u003eRating: 3.8\",\"Region: South\\u003cbr\\u003eRating: 3.8\",\"Region: South\\u003cbr\\u003eRating: 3.8\",\"Region: South\\u003cbr\\u003eRating: 3.8\",\"Region: South\\u003cbr\\u003eRating: 3.8\"],\"visible\":false,\"x\":[200,200,200,200,200,200,200,200,200,200,200,200,200,200,200,200,200,200,200,200,200,200,200,200,200],\"y\":[8000,8000,8000,8000,8000,8000,8000,8000,8000,8000,8000,8000,8000,8000,8000,8000,8000,8000,8000,8000,8000,8000,8000,8000,8000],\"type\":\"scatter\",\"xaxis\":\"x\",\"yaxis\":\"y\"},{\"hoverinfo\":\"text+x+y\",\"marker\":{\"color\":[0,0,0,0,0,0,0,0,0,0,0,0,0,0,0,0,0,0,0,0,0,0,0,0,0],\"colorscale\":[[0.0,\"#440154\"],[0.1111111111111111,\"#482878\"],[0.2222222222222222,\"#3e4989\"],[0.3333333333333333,\"#31688e\"],[0.4444444444444444,\"#26828e\"],[0.5555555555555556,\"#1f9e89\"],[0.6666666666666666,\"#35b779\"],[0.7777777777777778,\"#6ece58\"],[0.8888888888888888,\"#b5de2b\"],[1.0,\"#fde725\"]],\"size\":10},\"mode\":\"markers\",\"name\":\"Mar - Scatter\",\"text\":[\"Region: East\\u003cbr\\u003eRating: 4.2\",\"Region: East\\u003cbr\\u003eRating: 4.2\",\"Region: East\\u003cbr\\u003eRating: 4.2\",\"Region: East\\u003cbr\\u003eRating: 4.2\",\"Region: East\\u003cbr\\u003eRating: 4.2\",\"Region: East\\u003cbr\\u003eRating: 4.2\",\"Region: East\\u003cbr\\u003eRating: 4.2\",\"Region: East\\u003cbr\\u003eRating: 4.2\",\"Region: East\\u003cbr\\u003eRating: 4.2\",\"Region: East\\u003cbr\\u003eRating: 4.2\",\"Region: East\\u003cbr\\u003eRating: 4.2\",\"Region: East\\u003cbr\\u003eRating: 4.2\",\"Region: East\\u003cbr\\u003eRating: 4.2\",\"Region: East\\u003cbr\\u003eRating: 4.2\",\"Region: East\\u003cbr\\u003eRating: 4.2\",\"Region: East\\u003cbr\\u003eRating: 4.2\",\"Region: East\\u003cbr\\u003eRating: 4.2\",\"Region: East\\u003cbr\\u003eRating: 4.2\",\"Region: East\\u003cbr\\u003eRating: 4.2\",\"Region: East\\u003cbr\\u003eRating: 4.2\",\"Region: East\\u003cbr\\u003eRating: 4.2\",\"Region: East\\u003cbr\\u003eRating: 4.2\",\"Region: East\\u003cbr\\u003eRating: 4.2\",\"Region: East\\u003cbr\\u003eRating: 4.2\",\"Region: East\\u003cbr\\u003eRating: 4.2\"],\"visible\":false,\"x\":[150,150,150,150,150,150,150,150,150,150,150,150,150,150,150,150,150,150,150,150,150,150,150,150,150],\"y\":[6000,6000,6000,6000,6000,6000,6000,6000,6000,6000,6000,6000,6000,6000,6000,6000,6000,6000,6000,6000,6000,6000,6000,6000,6000],\"type\":\"scatter\",\"xaxis\":\"x\",\"yaxis\":\"y\"},{\"hoverinfo\":\"text+x+y\",\"marker\":{\"color\":[0,0,0,0,0,0,0,0,0,0,0,0,0,0,0,0,0,0,0,0,0,0,0,0,0],\"colorscale\":[[0.0,\"#440154\"],[0.1111111111111111,\"#482878\"],[0.2222222222222222,\"#3e4989\"],[0.3333333333333333,\"#31688e\"],[0.4444444444444444,\"#26828e\"],[0.5555555555555556,\"#1f9e89\"],[0.6666666666666666,\"#35b779\"],[0.7777777777777778,\"#6ece58\"],[0.8888888888888888,\"#b5de2b\"],[1.0,\"#fde725\"]],\"size\":10},\"mode\":\"markers\",\"name\":\"Apr - Scatter\",\"text\":[\"Region: West\\u003cbr\\u003eRating: 4.0\",\"Region: West\\u003cbr\\u003eRating: 4.0\",\"Region: West\\u003cbr\\u003eRating: 4.0\",\"Region: West\\u003cbr\\u003eRating: 4.0\",\"Region: West\\u003cbr\\u003eRating: 4.0\",\"Region: West\\u003cbr\\u003eRating: 4.0\",\"Region: West\\u003cbr\\u003eRating: 4.0\",\"Region: West\\u003cbr\\u003eRating: 4.0\",\"Region: West\\u003cbr\\u003eRating: 4.0\",\"Region: West\\u003cbr\\u003eRating: 4.0\",\"Region: West\\u003cbr\\u003eRating: 4.0\",\"Region: West\\u003cbr\\u003eRating: 4.0\",\"Region: West\\u003cbr\\u003eRating: 4.0\",\"Region: West\\u003cbr\\u003eRating: 4.0\",\"Region: West\\u003cbr\\u003eRating: 4.0\",\"Region: West\\u003cbr\\u003eRating: 4.0\",\"Region: West\\u003cbr\\u003eRating: 4.0\",\"Region: West\\u003cbr\\u003eRating: 4.0\",\"Region: West\\u003cbr\\u003eRating: 4.0\",\"Region: West\\u003cbr\\u003eRating: 4.0\",\"Region: West\\u003cbr\\u003eRating: 4.0\",\"Region: West\\u003cbr\\u003eRating: 4.0\",\"Region: West\\u003cbr\\u003eRating: 4.0\",\"Region: West\\u003cbr\\u003eRating: 4.0\",\"Region: West\\u003cbr\\u003eRating: 4.0\"],\"visible\":false,\"x\":[300,300,300,300,300,300,300,300,300,300,300,300,300,300,300,300,300,300,300,300,300,300,300,300,300],\"y\":[12000,12000,12000,12000,12000,12000,12000,12000,12000,12000,12000,12000,12000,12000,12000,12000,12000,12000,12000,12000,12000,12000,12000,12000,12000],\"type\":\"scatter\",\"xaxis\":\"x\",\"yaxis\":\"y\"},{\"colorbar\":{\"title\":{\"text\":\"Sales Volume\"}},\"colorscale\":[[0.0,\"rgb(247,251,255)\"],[0.125,\"rgb(222,235,247)\"],[0.25,\"rgb(198,219,239)\"],[0.375,\"rgb(158,202,225)\"],[0.5,\"rgb(107,174,214)\"],[0.625,\"rgb(66,146,198)\"],[0.75,\"rgb(33,113,181)\"],[0.875,\"rgb(8,81,156)\"],[1.0,\"rgb(8,48,107)\"]],\"name\":\"Jan - Heatmap\",\"visible\":true,\"x\":[\"Jan\"],\"y\":[\"Electronics\"],\"z\":[100.0],\"type\":\"heatmap\",\"xaxis\":\"x2\",\"yaxis\":\"y2\"},{\"colorbar\":{\"title\":{\"text\":\"Sales Volume\"}},\"colorscale\":[[0.0,\"rgb(247,251,255)\"],[0.125,\"rgb(222,235,247)\"],[0.25,\"rgb(198,219,239)\"],[0.375,\"rgb(158,202,225)\"],[0.5,\"rgb(107,174,214)\"],[0.625,\"rgb(66,146,198)\"],[0.75,\"rgb(33,113,181)\"],[0.875,\"rgb(8,81,156)\"],[1.0,\"rgb(8,48,107)\"]],\"name\":\"Feb - Heatmap\",\"visible\":false,\"x\":[\"Feb\"],\"y\":[\"Clothing\"],\"z\":[200.0],\"type\":\"heatmap\",\"xaxis\":\"x2\",\"yaxis\":\"y2\"},{\"colorbar\":{\"title\":{\"text\":\"Sales Volume\"}},\"colorscale\":[[0.0,\"rgb(247,251,255)\"],[0.125,\"rgb(222,235,247)\"],[0.25,\"rgb(198,219,239)\"],[0.375,\"rgb(158,202,225)\"],[0.5,\"rgb(107,174,214)\"],[0.625,\"rgb(66,146,198)\"],[0.75,\"rgb(33,113,181)\"],[0.875,\"rgb(8,81,156)\"],[1.0,\"rgb(8,48,107)\"]],\"name\":\"Mar - Heatmap\",\"visible\":false,\"x\":[\"Mar\"],\"y\":[\"Electronics\"],\"z\":[150.0],\"type\":\"heatmap\",\"xaxis\":\"x2\",\"yaxis\":\"y2\"},{\"colorbar\":{\"title\":{\"text\":\"Sales Volume\"}},\"colorscale\":[[0.0,\"rgb(247,251,255)\"],[0.125,\"rgb(222,235,247)\"],[0.25,\"rgb(198,219,239)\"],[0.375,\"rgb(158,202,225)\"],[0.5,\"rgb(107,174,214)\"],[0.625,\"rgb(66,146,198)\"],[0.75,\"rgb(33,113,181)\"],[0.875,\"rgb(8,81,156)\"],[1.0,\"rgb(8,48,107)\"]],\"name\":\"Apr - Heatmap\",\"visible\":false,\"x\":[\"Apr\"],\"y\":[\"Clothing\"],\"z\":[300.0],\"type\":\"heatmap\",\"xaxis\":\"x2\",\"yaxis\":\"y2\"}],                        {\"template\":{\"data\":{\"histogram2dcontour\":[{\"type\":\"histogram2dcontour\",\"colorbar\":{\"outlinewidth\":0,\"ticks\":\"\"},\"colorscale\":[[0.0,\"#0d0887\"],[0.1111111111111111,\"#46039f\"],[0.2222222222222222,\"#7201a8\"],[0.3333333333333333,\"#9c179e\"],[0.4444444444444444,\"#bd3786\"],[0.5555555555555556,\"#d8576b\"],[0.6666666666666666,\"#ed7953\"],[0.7777777777777778,\"#fb9f3a\"],[0.8888888888888888,\"#fdca26\"],[1.0,\"#f0f921\"]]}],\"choropleth\":[{\"type\":\"choropleth\",\"colorbar\":{\"outlinewidth\":0,\"ticks\":\"\"}}],\"histogram2d\":[{\"type\":\"histogram2d\",\"colorbar\":{\"outlinewidth\":0,\"ticks\":\"\"},\"colorscale\":[[0.0,\"#0d0887\"],[0.1111111111111111,\"#46039f\"],[0.2222222222222222,\"#7201a8\"],[0.3333333333333333,\"#9c179e\"],[0.4444444444444444,\"#bd3786\"],[0.5555555555555556,\"#d8576b\"],[0.6666666666666666,\"#ed7953\"],[0.7777777777777778,\"#fb9f3a\"],[0.8888888888888888,\"#fdca26\"],[1.0,\"#f0f921\"]]}],\"heatmap\":[{\"type\":\"heatmap\",\"colorbar\":{\"outlinewidth\":0,\"ticks\":\"\"},\"colorscale\":[[0.0,\"#0d0887\"],[0.1111111111111111,\"#46039f\"],[0.2222222222222222,\"#7201a8\"],[0.3333333333333333,\"#9c179e\"],[0.4444444444444444,\"#bd3786\"],[0.5555555555555556,\"#d8576b\"],[0.6666666666666666,\"#ed7953\"],[0.7777777777777778,\"#fb9f3a\"],[0.8888888888888888,\"#fdca26\"],[1.0,\"#f0f921\"]]}],\"heatmapgl\":[{\"type\":\"heatmapgl\",\"colorbar\":{\"outlinewidth\":0,\"ticks\":\"\"},\"colorscale\":[[0.0,\"#0d0887\"],[0.1111111111111111,\"#46039f\"],[0.2222222222222222,\"#7201a8\"],[0.3333333333333333,\"#9c179e\"],[0.4444444444444444,\"#bd3786\"],[0.5555555555555556,\"#d8576b\"],[0.6666666666666666,\"#ed7953\"],[0.7777777777777778,\"#fb9f3a\"],[0.8888888888888888,\"#fdca26\"],[1.0,\"#f0f921\"]]}],\"contourcarpet\":[{\"type\":\"contourcarpet\",\"colorbar\":{\"outlinewidth\":0,\"ticks\":\"\"}}],\"contour\":[{\"type\":\"contour\",\"colorbar\":{\"outlinewidth\":0,\"ticks\":\"\"},\"colorscale\":[[0.0,\"#0d0887\"],[0.1111111111111111,\"#46039f\"],[0.2222222222222222,\"#7201a8\"],[0.3333333333333333,\"#9c179e\"],[0.4444444444444444,\"#bd3786\"],[0.5555555555555556,\"#d8576b\"],[0.6666666666666666,\"#ed7953\"],[0.7777777777777778,\"#fb9f3a\"],[0.8888888888888888,\"#fdca26\"],[1.0,\"#f0f921\"]]}],\"surface\":[{\"type\":\"surface\",\"colorbar\":{\"outlinewidth\":0,\"ticks\":\"\"},\"colorscale\":[[0.0,\"#0d0887\"],[0.1111111111111111,\"#46039f\"],[0.2222222222222222,\"#7201a8\"],[0.3333333333333333,\"#9c179e\"],[0.4444444444444444,\"#bd3786\"],[0.5555555555555556,\"#d8576b\"],[0.6666666666666666,\"#ed7953\"],[0.7777777777777778,\"#fb9f3a\"],[0.8888888888888888,\"#fdca26\"],[1.0,\"#f0f921\"]]}],\"mesh3d\":[{\"type\":\"mesh3d\",\"colorbar\":{\"outlinewidth\":0,\"ticks\":\"\"}}],\"scatter\":[{\"fillpattern\":{\"fillmode\":\"overlay\",\"size\":10,\"solidity\":0.2},\"type\":\"scatter\"}],\"parcoords\":[{\"type\":\"parcoords\",\"line\":{\"colorbar\":{\"outlinewidth\":0,\"ticks\":\"\"}}}],\"scatterpolargl\":[{\"type\":\"scatterpolargl\",\"marker\":{\"colorbar\":{\"outlinewidth\":0,\"ticks\":\"\"}}}],\"bar\":[{\"error_x\":{\"color\":\"#2a3f5f\"},\"error_y\":{\"color\":\"#2a3f5f\"},\"marker\":{\"line\":{\"color\":\"#E5ECF6\",\"width\":0.5},\"pattern\":{\"fillmode\":\"overlay\",\"size\":10,\"solidity\":0.2}},\"type\":\"bar\"}],\"scattergeo\":[{\"type\":\"scattergeo\",\"marker\":{\"colorbar\":{\"outlinewidth\":0,\"ticks\":\"\"}}}],\"scatterpolar\":[{\"type\":\"scatterpolar\",\"marker\":{\"colorbar\":{\"outlinewidth\":0,\"ticks\":\"\"}}}],\"histogram\":[{\"marker\":{\"pattern\":{\"fillmode\":\"overlay\",\"size\":10,\"solidity\":0.2}},\"type\":\"histogram\"}],\"scattergl\":[{\"type\":\"scattergl\",\"marker\":{\"colorbar\":{\"outlinewidth\":0,\"ticks\":\"\"}}}],\"scatter3d\":[{\"type\":\"scatter3d\",\"line\":{\"colorbar\":{\"outlinewidth\":0,\"ticks\":\"\"}},\"marker\":{\"colorbar\":{\"outlinewidth\":0,\"ticks\":\"\"}}}],\"scattermapbox\":[{\"type\":\"scattermapbox\",\"marker\":{\"colorbar\":{\"outlinewidth\":0,\"ticks\":\"\"}}}],\"scatterternary\":[{\"type\":\"scatterternary\",\"marker\":{\"colorbar\":{\"outlinewidth\":0,\"ticks\":\"\"}}}],\"scattercarpet\":[{\"type\":\"scattercarpet\",\"marker\":{\"colorbar\":{\"outlinewidth\":0,\"ticks\":\"\"}}}],\"carpet\":[{\"aaxis\":{\"endlinecolor\":\"#2a3f5f\",\"gridcolor\":\"white\",\"linecolor\":\"white\",\"minorgridcolor\":\"white\",\"startlinecolor\":\"#2a3f5f\"},\"baxis\":{\"endlinecolor\":\"#2a3f5f\",\"gridcolor\":\"white\",\"linecolor\":\"white\",\"minorgridcolor\":\"white\",\"startlinecolor\":\"#2a3f5f\"},\"type\":\"carpet\"}],\"table\":[{\"cells\":{\"fill\":{\"color\":\"#EBF0F8\"},\"line\":{\"color\":\"white\"}},\"header\":{\"fill\":{\"color\":\"#C8D4E3\"},\"line\":{\"color\":\"white\"}},\"type\":\"table\"}],\"barpolar\":[{\"marker\":{\"line\":{\"color\":\"#E5ECF6\",\"width\":0.5},\"pattern\":{\"fillmode\":\"overlay\",\"size\":10,\"solidity\":0.2}},\"type\":\"barpolar\"}],\"pie\":[{\"automargin\":true,\"type\":\"pie\"}]},\"layout\":{\"autotypenumbers\":\"strict\",\"colorway\":[\"#636efa\",\"#EF553B\",\"#00cc96\",\"#ab63fa\",\"#FFA15A\",\"#19d3f3\",\"#FF6692\",\"#B6E880\",\"#FF97FF\",\"#FECB52\"],\"font\":{\"color\":\"#2a3f5f\"},\"hovermode\":\"closest\",\"hoverlabel\":{\"align\":\"left\"},\"paper_bgcolor\":\"white\",\"plot_bgcolor\":\"#E5ECF6\",\"polar\":{\"bgcolor\":\"#E5ECF6\",\"angularaxis\":{\"gridcolor\":\"white\",\"linecolor\":\"white\",\"ticks\":\"\"},\"radialaxis\":{\"gridcolor\":\"white\",\"linecolor\":\"white\",\"ticks\":\"\"}},\"ternary\":{\"bgcolor\":\"#E5ECF6\",\"aaxis\":{\"gridcolor\":\"white\",\"linecolor\":\"white\",\"ticks\":\"\"},\"baxis\":{\"gridcolor\":\"white\",\"linecolor\":\"white\",\"ticks\":\"\"},\"caxis\":{\"gridcolor\":\"white\",\"linecolor\":\"white\",\"ticks\":\"\"}},\"coloraxis\":{\"colorbar\":{\"outlinewidth\":0,\"ticks\":\"\"}},\"colorscale\":{\"sequential\":[[0.0,\"#0d0887\"],[0.1111111111111111,\"#46039f\"],[0.2222222222222222,\"#7201a8\"],[0.3333333333333333,\"#9c179e\"],[0.4444444444444444,\"#bd3786\"],[0.5555555555555556,\"#d8576b\"],[0.6666666666666666,\"#ed7953\"],[0.7777777777777778,\"#fb9f3a\"],[0.8888888888888888,\"#fdca26\"],[1.0,\"#f0f921\"]],\"sequentialminus\":[[0.0,\"#0d0887\"],[0.1111111111111111,\"#46039f\"],[0.2222222222222222,\"#7201a8\"],[0.3333333333333333,\"#9c179e\"],[0.4444444444444444,\"#bd3786\"],[0.5555555555555556,\"#d8576b\"],[0.6666666666666666,\"#ed7953\"],[0.7777777777777778,\"#fb9f3a\"],[0.8888888888888888,\"#fdca26\"],[1.0,\"#f0f921\"]],\"diverging\":[[0,\"#8e0152\"],[0.1,\"#c51b7d\"],[0.2,\"#de77ae\"],[0.3,\"#f1b6da\"],[0.4,\"#fde0ef\"],[0.5,\"#f7f7f7\"],[0.6,\"#e6f5d0\"],[0.7,\"#b8e186\"],[0.8,\"#7fbc41\"],[0.9,\"#4d9221\"],[1,\"#276419\"]]},\"xaxis\":{\"gridcolor\":\"white\",\"linecolor\":\"white\",\"ticks\":\"\",\"title\":{\"standoff\":15},\"zerolinecolor\":\"white\",\"automargin\":true,\"zerolinewidth\":2},\"yaxis\":{\"gridcolor\":\"white\",\"linecolor\":\"white\",\"ticks\":\"\",\"title\":{\"standoff\":15},\"zerolinecolor\":\"white\",\"automargin\":true,\"zerolinewidth\":2},\"scene\":{\"xaxis\":{\"backgroundcolor\":\"#E5ECF6\",\"gridcolor\":\"white\",\"linecolor\":\"white\",\"showbackground\":true,\"ticks\":\"\",\"zerolinecolor\":\"white\",\"gridwidth\":2},\"yaxis\":{\"backgroundcolor\":\"#E5ECF6\",\"gridcolor\":\"white\",\"linecolor\":\"white\",\"showbackground\":true,\"ticks\":\"\",\"zerolinecolor\":\"white\",\"gridwidth\":2},\"zaxis\":{\"backgroundcolor\":\"#E5ECF6\",\"gridcolor\":\"white\",\"linecolor\":\"white\",\"showbackground\":true,\"ticks\":\"\",\"zerolinecolor\":\"white\",\"gridwidth\":2}},\"shapedefaults\":{\"line\":{\"color\":\"#2a3f5f\"}},\"annotationdefaults\":{\"arrowcolor\":\"#2a3f5f\",\"arrowhead\":0,\"arrowwidth\":1},\"geo\":{\"bgcolor\":\"white\",\"landcolor\":\"#E5ECF6\",\"subunitcolor\":\"white\",\"showland\":true,\"showlakes\":true,\"lakecolor\":\"white\"},\"title\":{\"x\":0.05},\"mapbox\":{\"style\":\"light\"}}},\"xaxis\":{\"anchor\":\"y\",\"domain\":[0.0,0.45]},\"yaxis\":{\"anchor\":\"x\",\"domain\":[0.0,1.0]},\"xaxis2\":{\"anchor\":\"y2\",\"domain\":[0.55,1.0]},\"yaxis2\":{\"anchor\":\"x2\",\"domain\":[0.0,1.0]},\"annotations\":[{\"font\":{\"size\":16},\"showarrow\":false,\"text\":\"Sales Volume vs Revenue (by Region)\",\"x\":0.225,\"xanchor\":\"center\",\"xref\":\"paper\",\"y\":1.0,\"yanchor\":\"bottom\",\"yref\":\"paper\"},{\"font\":{\"size\":16},\"showarrow\":false,\"text\":\"Seasonal Trends by Category\",\"x\":0.775,\"xanchor\":\"center\",\"xref\":\"paper\",\"y\":1.0,\"yanchor\":\"bottom\",\"yref\":\"paper\"}],\"updatemenus\":[{\"active\":0,\"buttons\":[{\"args\":[{\"visible\":[true,false,false,false,true,false,false,false]},{\"title\":\"Sales Dashboard — Jan\"}],\"label\":\"Jan\",\"method\":\"update\"},{\"args\":[{\"visible\":[false,true,false,false,false,true,false,false]},{\"title\":\"Sales Dashboard — Feb\"}],\"label\":\"Feb\",\"method\":\"update\"},{\"args\":[{\"visible\":[false,false,true,false,false,false,true,false]},{\"title\":\"Sales Dashboard — Mar\"}],\"label\":\"Mar\",\"method\":\"update\"},{\"args\":[{\"visible\":[false,false,false,true,false,false,false,true]},{\"title\":\"Sales Dashboard — Apr\"}],\"label\":\"Apr\",\"method\":\"update\"}],\"x\":0.5,\"xanchor\":\"center\",\"y\":1.2,\"yanchor\":\"top\"}],\"title\":{\"text\":\"Sales Dashboard — Jan\"},\"showlegend\":false,\"height\":600,\"width\":1100},                        {\"responsive\": true}                    ).then(function(){\n",
              "                            \n",
              "var gd = document.getElementById('3c38a6d6-edfd-4916-aa30-54c9d6d75dc7');\n",
              "var x = new MutationObserver(function (mutations, observer) {{\n",
              "        var display = window.getComputedStyle(gd).display;\n",
              "        if (!display || display === 'none') {{\n",
              "            console.log([gd, 'removed!']);\n",
              "            Plotly.purge(gd);\n",
              "            observer.disconnect();\n",
              "        }}\n",
              "}});\n",
              "\n",
              "// Listen for the removal of the full notebook cells\n",
              "var notebookContainer = gd.closest('#notebook-container');\n",
              "if (notebookContainer) {{\n",
              "    x.observe(notebookContainer, {childList: true});\n",
              "}}\n",
              "\n",
              "// Listen for the clearing of the current output cell\n",
              "var outputEl = gd.closest('.output');\n",
              "if (outputEl) {{\n",
              "    x.observe(outputEl, {childList: true});\n",
              "}}\n",
              "\n",
              "                        })                };                            </script>        </div>\n",
              "</body>\n",
              "</html>"
            ]
          },
          "metadata": {}
        }
      ],
      "source": [
        "import pandas as pd\n",
        "import plotly.graph_objects as go\n",
        "from plotly.subplots import make_subplots\n",
        "\n",
        "# ----------------------------\n",
        "# 1️⃣ Sample Data\n",
        "# ----------------------------\n",
        "data = pd.DataFrame({\n",
        "    'category': ['Electronics', 'Clothing'] * 50,\n",
        "    'region': ['North', 'South', 'East', 'West'] * 25,\n",
        "    'sales_volume': [100, 200, 150, 300] * 25,\n",
        "    'revenue': [5000, 8000, 6000, 12000] * 25,\n",
        "    'customer_rating': [4.5, 3.8, 4.2, 4.0] * 25,\n",
        "    'month': ['Jan', 'Feb', 'Mar', 'Apr'] * 25\n",
        "})\n",
        "\n",
        "# ----------------------------\n",
        "# 2️⃣ Create Subplots\n",
        "# ----------------------------\n",
        "fig = make_subplots(\n",
        "    rows=1, cols=2,\n",
        "    subplot_titles=(\"Sales Volume vs Revenue (by Region)\", \"Seasonal Trends by Category\")\n",
        ")\n",
        "\n",
        "# ----------------------------\n",
        "# 3️⃣ Scatter Plot (left)\n",
        "# ----------------------------\n",
        "months = data['month'].unique()\n",
        "\n",
        "# Add scatter traces for each month (to enable dropdown filtering)\n",
        "for month in months:\n",
        "    df_month = data[data['month'] == month]\n",
        "    fig.add_trace(\n",
        "        go.Scatter(\n",
        "            x=df_month['sales_volume'],\n",
        "            y=df_month['revenue'],\n",
        "            mode='markers',\n",
        "            marker=dict(size=10, color=df_month['region'].astype('category').cat.codes, colorscale='Viridis'),\n",
        "            text=[f\"Region: {r}<br>Rating: {c}\" for r, c in zip(df_month['region'], df_month['customer_rating'])],\n",
        "            hoverinfo='text+x+y',\n",
        "            name=f\"{month} - Scatter\",\n",
        "            visible=(month == 'Jan')  # Show only January initially\n",
        "        ),\n",
        "        row=1, col=1\n",
        "    )\n",
        "\n",
        "# ----------------------------\n",
        "# 4️⃣ Heatmap (right)\n",
        "# ----------------------------\n",
        "for month in months:\n",
        "    df_heat = data[data['month'] == month].groupby(['category', 'month'])['sales_volume'].mean().reset_index()\n",
        "    fig.add_trace(\n",
        "        go.Heatmap(\n",
        "            x=df_heat['month'],\n",
        "            y=df_heat['category'],\n",
        "            z=df_heat['sales_volume'],\n",
        "            colorscale='Blues',\n",
        "            colorbar_title='Sales Volume',\n",
        "            visible=(month == 'Jan'),\n",
        "            name=f\"{month} - Heatmap\"\n",
        "        ),\n",
        "        row=1, col=2\n",
        "    )\n",
        "\n",
        "# ----------------------------\n",
        "# 5️⃣ Add Dropdown Menus\n",
        "# ----------------------------\n",
        "# Total number of traces = len(months)*2 (scatter + heatmap for each)\n",
        "buttons = []\n",
        "for i, month in enumerate(months):\n",
        "    visible = [False] * len(months) * 2\n",
        "    visible[i] = True  # scatter for that month\n",
        "    visible[i + len(months)] = True  # heatmap for that month\n",
        "\n",
        "    buttons.append(dict(\n",
        "        label=month,\n",
        "        method='update',\n",
        "        args=[{'visible': visible},\n",
        "              {'title': f\"Sales Dashboard — {month}\"}]\n",
        "    ))\n",
        "\n",
        "fig.update_layout(\n",
        "    updatemenus=[dict(active=0, buttons=buttons, x=0.5, xanchor='center', y=1.2, yanchor='top')],\n",
        "    title=\"Sales Dashboard — Jan\",\n",
        "    showlegend=False,\n",
        "    height=600,\n",
        "    width=1100\n",
        ")\n",
        "\n",
        "# ----------------------------\n",
        "# 6️⃣ Display Dashboard\n",
        "# ----------------------------\n",
        "fig.show()\n"
      ]
    }
  ]
}